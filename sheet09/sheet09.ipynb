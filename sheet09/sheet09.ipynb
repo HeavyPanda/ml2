{
 "cells": [
  {
   "cell_type": "markdown",
   "metadata": {},
   "source": [
    "##Question 1: Analysis of a small HMM (30 P)\n",
    "\n",
    "We first look at a toy example of an HMM trained on a binary sequence. The training procedure below consists of 100 iterations of the Baum-Welch procedure. It runs the HMM learning algorithm for some toy binary data and prints the parameters learned by the HMM (i.e. matrices $A$ and $B$).\n",
    "\n",
    "###Question 1a: Qualitative Analysis (15 P)\n",
    "\n",
    "* *Run* the code several times to check that the behavior is consistent.\n",
    "* *Describe* qualitatively the solution $A,B$ learned by the model.\n",
    "* *Explain* how the solution $\\lambda = (A,B)$ relates to the sequence of observations $O$ that has been modeled.\n"
   ]
  },
  {
   "cell_type": "markdown",
   "metadata": {},
   "source": [
    "# Programming Hidden Markov Models (60 P)\n",
    "\n",
    "In this exercise, you will experiment with hidden Markov models, in particular, applying them to modeling character sequences, and analyzing the learned solution. As a starting point, you are provided in the file `hmm.py` with a basic implementation of an HMM and of the Baum-Welch training algorithm. The names of variables used in the code and the references to equations are taken from the HMM paper by Rabiner et al. downloable from ISIS. In addition to the variables described in this paper, we use two additional variables: $Z$ for the emission probabilities of observations $O$, and $\\psi$ (i.e. psi) for collecting the statistics of Equation (40c).\n"
   ]
  },
  {
   "cell_type": "code",
   "execution_count": 57,
   "metadata": {
    "collapsed": false
   },
   "outputs": [
    {
     "name": "stdout",
     "output_type": "stream",
     "text": [
      "A\n",
      "0.191 0.004 0.000 0.806\n",
      "0.000 0.000 1.000 0.000\n",
      "0.734 0.000 0.266 0.000\n",
      "0.000 0.055 0.671 0.274\n",
      " \n",
      "B\n",
      "0.000 1.000\n",
      "0.000 1.000\n",
      "0.895 0.105\n",
      "0.888 0.112\n",
      " \n",
      "Pi\n",
      "0.000\n",
      "1.000\n",
      "0.000\n",
      "0.000\n"
     ]
    }
   ],
   "source": [
    "import numpy,hmm\n",
    "\n",
    "O = numpy.array([1,0,1,0,1,1,0,0,1,0,0,0,1,1,1,0,1,0,0,0,1,1,0,1,1,0,0,1,1,\n",
    "                 0,0,0,1,0,0,0,1,1,0,0,1,0,0,1,1,0,0,0,1,0,1,0,1,0,0,0,1,0,\n",
    "                 0,0,1,0,1,0,1,0,0,0,1,1,1,0,1,0,0,0,1,0,0,0,1,0,1,0,1,0,0,\n",
    "                 0,1,1,1,0,1,0,0,0,1,0,0,0,1,0,0,0,1,0,0,0,1,1,0,0,1,0,1,1,\n",
    "                 1,0,0,0,1,1,0,0,1,0,1,1,1,0,0,1,1,0,0,0,1,1,0,0,1,1,0,0,1,\n",
    "                 0,0,0,1,0,0,0,1,0,0,0,1,0,0,0,1,0,1,0,1,0,0,0,1,0,0,0,1,0,\n",
    "                 0,0,1,0,0,0,1,1,0,0,1,1,0,0,1,1,0,0,1,0,0,0,1,1,0,0])\n",
    "\n",
    "hmmtoy = hmm.HMM(4,2)\n",
    "\n",
    "for k in range(100):\n",
    "    hmmtoy.loaddata(O)\n",
    "    hmmtoy.forward()\n",
    "    hmmtoy.backward()\n",
    "    hmmtoy.learn()\n",
    "\n",
    "print('A')\n",
    "print(\"\\n\".join([\" \".join(['%.3f'%a for a in aa]) for aa in hmmtoy.A]))\n",
    "print(' ')\n",
    "print('B')\n",
    "print(\"\\n\".join([\" \".join(['%.3f'%b for b in bb]) for bb in hmmtoy.B]))\n",
    "print(' ')\n",
    "print('Pi')\n",
    "print(\"\\n\".join(['%.3f'%b for b in hmmtoy.Pi]))"
   ]
  },
  {
   "cell_type": "markdown",
   "metadata": {},
   "source": [
    "###Question 1b: Finding the best number $N$ of hidden states (15 P)\n",
    "\n",
    "For the same sequence of observations as in Question 1a, we would like to determine automatically what is a good number of hidden states $N = \\mathrm{card}(S)$ for the model.\n",
    "\n",
    "* *Split* the sequence of observations into a training and test set (you can assume stationarity).\n",
    "* *Train* the model on the training set for several iteration (e.g. 100 iterations) and for multiple parameter $N$.\n",
    "* *Show* for each choice of parameter $N$ the log-probability $\\log p(O | \\lambda)$ for the test set. (If the results are unstable, perform several trials of the same experiment for each parameter $N$.)\n",
    "* *Explain* in the light of this experiment what is the best parameter $N$."
   ]
  },
  {
   "cell_type": "code",
   "execution_count": 5,
   "metadata": {
    "collapsed": false
   },
   "outputs": [
    {
     "name": "stdout",
     "output_type": "stream",
     "text": [
      "[  0.          -2.85423271  -2.37616959  -3.26415146  -1.68866099\n",
      "  -1.68866099  -1.68866099  -1.66643556  -1.67271642 -10.06690011\n",
      " -85.48449257 -10.8116712  -18.40282568  -5.5056853   -4.81800324\n",
      "  -8.68658024 -75.49562781 -56.21944428  -4.48742163 -46.3236819 ]\n"
     ]
    }
   ],
   "source": [
    "\n",
    "def forward(A,B,Pi,O):\n",
    "        \n",
    "    # Initialization\n",
    "    Z = numpy.array([B[:,O[t]] for t in range(len(O))])\n",
    "    alpha = numpy.empty([len(O),len(Pi)])\n",
    "    alpha[:] = numpy.NaN\n",
    "    alpha[0] = Pi*Z[0]\n",
    "        \n",
    "    # Induction\n",
    "    for t in range(len(O)-1):\n",
    "        alpha[t+1] = numpy.dot(alpha[t],A)*Z[t+1]\n",
    "        \n",
    "    # Termination\n",
    "    return alpha[-1].sum()\n",
    "train=O[0:195]\n",
    "test=O[196:200]\n",
    "result=numpy.zeros(20)\n",
    "for n in range(1,20):\n",
    "    markov_guy = hmm.HMM(n,2)\n",
    "    for k in range(100):\n",
    "        markov_guy.loaddata(train)\n",
    "        markov_guy.forward()\n",
    "        markov_guy.backward()\n",
    "        markov_guy.learn()\n",
    "    result[n]=numpy.log(forward(markov_guy.A,markov_guy.B,markov_guy.Pi,test))\n",
    "print(result)"
   ]
  },
  {
   "cell_type": "markdown",
   "metadata": {},
   "source": [
    "## Question 2: Text modeling and generation (30 P)\n",
    "\n",
    "We would like to train an HMM on character sequences taken from English text. We use the 20 newsgroups dataset that is accessible via scikits-learn http://scikit-learn.org/stable/datasets/twenty_newsgroups.html. (For this, you need to install scikits-learn if not done already.) Documentation is available on the website. The code below allows you to (1) read the dataset, (2) sample HMM-readable sequences from it, and (3) convert them back into string of characters."
   ]
  },
  {
   "cell_type": "code",
   "execution_count": 12,
   "metadata": {
    "collapsed": false
   },
   "outputs": [],
   "source": [
    "from sklearn.datasets import fetch_20newsgroups\n",
    "\n",
    "# Download a subset of the newsgroup dataset\n",
    "newsgroups_train = fetch_20newsgroups(subset='train',categories=['sci.med'])\n",
    "newsgroups_test  = fetch_20newsgroups(subset='test' ,categories=['sci.med'])\n",
    "\n",
    "# Sample a sequence of T characters from the dataset\n",
    "# that the HMM can read (0=whitespace 1-26=A-Z).\n",
    "#\n",
    "# Example of execution:\n",
    "# O = sample(newsgroups_train.data)\n",
    "# O = sample(newsgroups_test.data)\n",
    "#\n",
    "def sample(data,T=50):\n",
    "    i = numpy.random.randint(len(data))\n",
    "    O = data[i].upper().replace('\\n',' ')\n",
    "    O = numpy.array([ord(s) for s in O])\n",
    "    O = numpy.maximum(O[(O>=65)*(O<90)+(O==32)]-64,0)\n",
    "    j = numpy.random.randint(len(O)-T)\n",
    "    return O[j:j+T]\n",
    "\n",
    "# Takes a sequence of integers between 0 and 26 (HMM representation)\n",
    "# and converts it back to a string of characters\n",
    "def tochar(O):\n",
    "    return \"\".join([\"%s\"%chr(o) for o in (O+32*(O==0)+64*(O>0.5))])"
   ]
  },
  {
   "cell_type": "markdown",
   "metadata": {},
   "source": [
    "### Question 2a (15 P)\n",
    "\n",
    "In order to train the HMM, we use a stochastic optimization algorithm where the Baum-Welch procedure is applied to randomly drawn sequences of $T=50$ characters at each iteration. The HMM has 27 visible states (A-Z + whitespace) and 200 hidden states. Because the Baum-Welch procedure optimizes for the sequence taken as input, and no necessarily the full text, it can take fairly large steps in the parameter space, which is inadequate for stochastic optimization. We consider instead for the parameters $\\lambda = (A,B,\\Pi)$ the update rule $\\lambda^{new} = (1-\\gamma) \\lambda + \\gamma \\bar \\lambda$, where $\\bar \\lambda$ contains the candidate parameters obtained from Equations 40a-c. A reasonable value for $\\gamma$ is $0.1$.\n",
    "\n",
    "* *Create* a new class `HMMChar` that extends the class `HMM` provided in `hmm.py`.\n",
    "* *Implement* for this class a new method `HMMchar.learn(self)` that overrides the original methods, and implements the proposed update rule instead.\n",
    "* *Implement* the stochastic training procedure and run it.\n",
    "* *Monitor* $\\log p(O|\\lambda)$ on the test set at multiple iterations for sequences of same length as the one used for training. (Hint: for less noisy log-probability estimates, use several sequences or a moving average.)"
   ]
  },
  {
   "cell_type": "code",
   "execution_count": 65,
   "metadata": {
    "collapsed": false
   },
   "outputs": [
    {
     "name": "stdout",
     "output_type": "stream",
     "text": [
      "[-158.72845929 -162.00061906 -161.80563606 -160.83977309 -162.30921544\n",
      " -167.22366214 -179.42414641 -170.69358635 -160.61270761 -163.62876919\n",
      " -163.40415386 -171.33894504 -188.16089538 -211.72205531 -183.68312241\n",
      " -191.6486339  -198.53357775 -202.90847583 -225.2889924  -218.36057922\n",
      " -219.42200365 -217.32798914 -216.30132393 -240.64511481 -244.7551371\n",
      " -228.22492116 -230.07814109 -229.16723646 -255.10446123 -247.78710531\n",
      " -245.53649095 -244.74473984 -277.99941667 -257.40112016 -260.7488776\n",
      " -284.28102222 -295.23435699 -278.77581156 -296.79732718 -272.01237041\n",
      " -326.16126553 -309.82395825 -320.88771718 -310.60114626 -306.57080588\n",
      " -331.57653964 -344.26645464 -296.2090105  -329.01704808 -372.66853244\n",
      " -353.58127992 -341.78141403 -321.48952578 -333.45887145 -328.20583263\n",
      " -358.00277742 -415.1839537  -373.20524002 -342.10733301 -338.43190489\n",
      " -395.12417063 -372.10323641 -386.1267787  -379.86156511 -364.56015094\n",
      " -426.30133859 -372.71001433 -396.13929558 -449.99680729 -393.16743027\n",
      " -406.79256058 -411.95825148 -376.39897498 -408.53308315 -424.94869298\n",
      " -405.75034989 -451.89193432 -393.62719931 -449.40212683 -453.03772259\n",
      " -480.26135369 -516.82469703 -500.02951286 -460.89510718 -450.39018752\n",
      " -469.06978963 -506.00485742 -496.41646933 -344.41870797 -481.20897327\n",
      " -497.32603126 -451.47319286 -492.26286954 -509.37784538 -487.83376385\n",
      " -504.77595424 -549.73700144 -603.57469456 -569.14917547 -507.41913459]\n"
     ]
    }
   ],
   "source": [
    "from hmm import HMM\n",
    "na = numpy.newaxis\n",
    "class HMMChar(hmm.HMM):\n",
    "\n",
    "    def learn(self,param):\n",
    "        \n",
    "        # Compute gamma\n",
    "        self.gamma = self.alpha*self.beta / self.pobs\n",
    "        \n",
    "        # Compute xi and psi\n",
    "        self.xi = self.alpha[:-1,:,na]*self.A[na,:,:]*self.beta[1:,na,:]*self.Z[1:,na,:] / self.pobs\n",
    "        self.psi = self.gamma[:,:,na]*(self.O[:,na,na] == numpy.arange(self.B.shape[1])[na,na,:])\n",
    "        \n",
    "        # Update HMM parameters\n",
    "        self.A  = param*(self.xi.sum(axis=0)  / self.gamma[:-1].sum(axis=0)[:,na])+(1-param)*self.A\n",
    "        self.B  = param*(self.psi.sum(axis=0) / self.gamma.sum(axis=0)[:,na])+(1-param)*self.B\n",
    "        self.Pi = param*(self.gamma[0])+(1-param)*self.Pi\n",
    "\n",
    "\n",
    "hmmchar = HMMChar(200,27)\n",
    "trainsample = lambda: sample(newsgroups_train.data)\n",
    "testsample  = lambda: sample(newsgroups_test.data)\n",
    "\n",
    "def question2a(hmmchar,trainsample,testsample):\n",
    "    result=numpy.zeros(100)\n",
    "    for k in range(100):\n",
    "        hmmchar.loaddata(train)\n",
    "        hmmchar.forward()\n",
    "        hmmchar.backward()\n",
    "        hmmchar.learn(0.1)\n",
    "        result[k]=numpy.log(forward(hmmchar.A,hmmchar.B,hmmchar.Pi,testsample()))\n",
    "    return result\n",
    "\n",
    "print(question2a(hmmchar,trainsample,testsample))"
   ]
  },
  {
   "cell_type": "markdown",
   "metadata": {},
   "source": [
    "### Question 2b (15 P)\n",
    "\n",
    "In order to visualize what the HMM has learned, we would like to generate random text from it. A well-trained HMM should generate character sequences that have some similarity with the text it has been trained on.\n",
    "\n",
    "* *Implement* a method `generate(self,T)` of the class `HMMChar` that takes as argument the length of the character sequence that has to be generated.\n",
    "* *Test* your method by generating a sequence of 250 characters and comparing it with original text and a purely random sequence.\n",
    "* *Discuss* how the generated sequences compare with written English and what are the advantages and limitations of the HMM for this problem."
   ]
  },
  {
   "cell_type": "code",
   "execution_count": 66,
   "metadata": {
    "collapsed": false
   },
   "outputs": [
    {
     "name": "stdout",
     "output_type": "stream",
     "text": [
      "original:\n",
      "OT HUMANS  SECONDLY YOUR DESCRIPTION SOUNDS JUST LIKE DINITROPHENOL  THIS IS AN UNCOUPLER OF RESPIRATORY CHAIN OXIDATIVE PHOSPHORYLATION  PUT IN LAYMANS TERMS IT SHORTCIRCUITS THE MITOCHONDRIA CAUSING FOOD ENERGY TO BE TURNED INTO HEAT  DNP WAS POPUL\n"
     ]
    },
    {
     "ename": "AttributeError",
     "evalue": "HMMChar instance has no attribute 'generate'",
     "output_type": "error",
     "traceback": [
      "\u001b[1;31m---------------------------------------------------------------------------\u001b[0m",
      "\u001b[1;31mAttributeError\u001b[0m                            Traceback (most recent call last)",
      "\u001b[1;32m<ipython-input-66-7ab012df9108>\u001b[0m in \u001b[0;36m<module>\u001b[1;34m()\u001b[0m\n\u001b[0;32m     13\u001b[0m \u001b[1;33m\u001b[0m\u001b[0m\n\u001b[0;32m     14\u001b[0m \u001b[1;32mprint\u001b[0m\u001b[1;33m(\u001b[0m\u001b[1;34m\"original:\\n\"\u001b[0m\u001b[1;33m+\u001b[0m\u001b[0mtochar\u001b[0m\u001b[1;33m(\u001b[0m\u001b[0msample\u001b[0m\u001b[1;33m(\u001b[0m\u001b[0mnewsgroups_test\u001b[0m\u001b[1;33m.\u001b[0m\u001b[0mdata\u001b[0m\u001b[1;33m,\u001b[0m\u001b[0mT\u001b[0m\u001b[1;33m=\u001b[0m\u001b[1;36m250\u001b[0m\u001b[1;33m)\u001b[0m\u001b[1;33m)\u001b[0m\u001b[1;33m)\u001b[0m\u001b[1;33m\u001b[0m\u001b[0m\n\u001b[1;32m---> 15\u001b[1;33m \u001b[1;32mprint\u001b[0m\u001b[1;33m(\u001b[0m\u001b[1;34m\"\\nlearned:\\n\"\u001b[0m\u001b[1;33m+\u001b[0m\u001b[0mtochar\u001b[0m\u001b[1;33m(\u001b[0m\u001b[0mhmmchar\u001b[0m\u001b[1;33m.\u001b[0m\u001b[0mgenerate\u001b[0m\u001b[1;33m(\u001b[0m\u001b[1;36m250\u001b[0m\u001b[1;33m)\u001b[0m\u001b[1;33m)\u001b[0m\u001b[1;33m)\u001b[0m\u001b[1;33m\u001b[0m\u001b[0m\n\u001b[0m\u001b[0;32m     16\u001b[0m \u001b[1;32mprint\u001b[0m\u001b[1;33m(\u001b[0m\u001b[1;34m\"\\nrandom:\\n\"\u001b[0m \u001b[1;33m+\u001b[0m\u001b[0mtochar\u001b[0m\u001b[1;33m(\u001b[0m\u001b[0msolutions\u001b[0m\u001b[1;33m.\u001b[0m\u001b[0mHMMChar\u001b[0m\u001b[1;33m(\u001b[0m\u001b[1;36m200\u001b[0m\u001b[1;33m,\u001b[0m\u001b[1;36m27\u001b[0m\u001b[1;33m)\u001b[0m\u001b[1;33m.\u001b[0m\u001b[0mgenerate\u001b[0m\u001b[1;33m(\u001b[0m\u001b[1;36m250\u001b[0m\u001b[1;33m)\u001b[0m\u001b[1;33m)\u001b[0m\u001b[1;33m)\u001b[0m\u001b[1;33m\u001b[0m\u001b[0m\n",
      "\u001b[1;31mAttributeError\u001b[0m: HMMChar instance has no attribute 'generate'"
     ]
    }
   ],
   "source": [
    "from hmm import HMM\n",
    "class HMMChar(hmm.HMM):\n",
    "    def generate(self,T):\n",
    "        N=len(self.Pi)\n",
    "        hidden=zeros(T)\n",
    "        trajectory=zeros(T)   \n",
    "        hidden[0]=numpy.random.choice(N,1,self.Pi)\n",
    "        trajectory[0]=numpy.random.choice(N,1,self.B[hidden[0],:])\n",
    "        for s in range(1,T):\n",
    "            hidden[s]=numpy.random.choice(N,1,self.A[hidden[s-1],:])\n",
    "            trajectory[s]=numpy.random.choice(N,1,self.B[hidden[s],:])\n",
    "        return trajectory\n",
    "    \n",
    "print(\"original:\\n\"+tochar(sample(newsgroups_test.data,T=250)))\n",
    "print(\"\\nlearned:\\n\"+tochar(hmmchar.generate(250)))\n",
    "print(\"\\nrandom:\\n\" +tochar(solutions.HMMChar(200,27).generate(250)))"
   ]
  },
  {
   "cell_type": "code",
   "execution_count": null,
   "metadata": {
    "collapsed": true
   },
   "outputs": [],
   "source": []
  },
  {
   "cell_type": "code",
   "execution_count": null,
   "metadata": {
    "collapsed": true
   },
   "outputs": [],
   "source": []
  }
 ],
 "metadata": {
  "kernelspec": {
   "display_name": "Python 2",
   "language": "python",
   "name": "python2"
  },
  "language_info": {
   "codemirror_mode": {
    "name": "ipython",
    "version": 2
   },
   "file_extension": ".py",
   "mimetype": "text/x-python",
   "name": "python",
   "nbconvert_exporter": "python",
   "pygments_lexer": "ipython2",
   "version": "2.7.11"
  }
 },
 "nbformat": 4,
 "nbformat_minor": 0
}
