{
 "cells": [
  {
   "cell_type": "markdown",
   "metadata": {},
   "source": [
    "# Structured Output Learning\n",
    "\n",
    "In this exercise, we consider a data completion task to be solved with structured output learning. The dataset is based on the dataset of the previous programming sheet on splice sites classification. We would like to be able to reconstruct a nucleotide sequence when one of the nucleotides is missing. One such incomplete sequence of nucleotides is shown in the image below\n",
    "\n",
    "![](genesequence.png)\n",
    "\n",
    "where the question mark indicates the missing nucleotide. We would like to make use of the degree kernel that was used in the previous programming sheet. It was shown to represent genes data efficiently near the splice sites. For our completion task, we adopt a structured output learning approach, where the candidate value for replacing the missing nucleotide is also part of the kernel feature map. Interestingly, with this approach, the kernel can still apply to the same type of input data (i.e. continuous gene sequences) as in the standard splice classification setting.\n",
    "\n",
    "The structured output problem is defined as solving the soft-margin SVM optimization problem:\n",
    "$$\n",
    "\\min_{w,b} \\|w\\|^2 + C {\\textstyle \\sum_{i=1}^N} \\xi_i\n",
    "$$\n",
    "where for all inputs pairs $(x_i,y_i)_{i=1}^N$ representing the genes sequences and the true value of the missing nucleotide, the following constraints hold:\n",
    "\\begin{align*}\n",
    "w^\\top \\phi(x_i,y_i) + b &\\geq 1 - \\xi_i \\\\\n",
    "\\forall z_i \\in \\{\\mathrm{A,T,C,G}\\} \\setminus y_i:~w^\\top \\phi(x_i,z_i) + b &\\leq - 1 + \\xi_i\\\\\n",
    "\\xi_i &\\geq 0\n",
    "\\end{align*}\n",
    "Once the SVM is optimized, a missing nucleotide $y$ for sequence $x$ can be predicted as:\n",
    "$$\n",
    "y(x) = \\mathrm{arg}\\!\\!\\!\\!\\!\\!\\max_{z \\in \\{\\mathrm{A,T,C,G}\\}} w^\\top \\phi(x,z).\n",
    "$$\n",
    "The feature map $\\phi(x,z)$ is implicitely defined by the degree kernel between gene sequences $r$ and $r'$ given as\n",
    "$$\n",
    "k_d(r,r') = {\\textstyle \\sum_{i=1}^{L-d+1}} 1_{\\{ r[i \\dots i+d] = r'[i \\dots i+d]\\}}\n",
    "$$\n",
    "where $r$ is built as the incomplete genes sequence $x$ with missing nucleotide \"?\" set to $z$, and where $r[i \\dots i+d]$ is a subsequence of $r$ starting at position $i$ and of length $d$."
   ]
  },
  {
   "cell_type": "markdown",
   "metadata": {},
   "source": [
    "## Loading the Data\n",
    "\n",
    "The following code calls a function from the file `utils.py` that loads the data in the IPython notebook. Note that only the 20 nucleotides nearest to the splice site are returned. The code then prints the first four gene sequences from the dataset, where the character \"?\" denotes the missing nucleotide. The label associated to each incomplete genes sequences (i.e. the value of the missing nucleotide \"?\") is shown on the right."
   ]
  },
  {
   "cell_type": "code",
   "execution_count": 1,
   "metadata": {
    "collapsed": false
   },
   "outputs": [
    {
     "name": "stdout",
     "output_type": "stream",
     "text": [
      "CAACGATCCAT?CATCCACA  ?=C\n",
      "CAGGACGGTCA?GAAGATCC  ?=G\n",
      "AAAAAGATGA?GTGGTCAAC  ?=A\n",
      "TGTCGGTTA?CAATGATTTT  ?=C\n"
     ]
    }
   ],
   "source": [
    "import utils\n",
    "Xtrain,Xtest,Ytrain,Ytest = utils.loaddata()\n",
    "\n",
    "print(\"\".join(Xtrain[0])+\"  ?=\"+Ytrain[0])\n",
    "print(\"\".join(Xtrain[1])+\"  ?=\"+Ytrain[1])\n",
    "print(\"\".join(Xtrain[2])+\"  ?=\"+Ytrain[2])\n",
    "print(\"\".join(Xtrain[3])+\"  ?=\"+Ytrain[3])"
   ]
  },
  {
   "cell_type": "markdown",
   "metadata": {},
   "source": [
    "It can be observed from the output that the missing nucleotide is not always at the same position. This further confirms that the problem cannot be treated directly as a standard multiclass classification problem. Note that in this data, we have artificially removed nucleotides in the training and test set so that we have labels $y$ available for training and evaluation."
   ]
  },
  {
   "cell_type": "markdown",
   "metadata": {},
   "source": [
    "## Generating SVM Data (20 P)\n",
    "\n",
    "In the SVM structured output formulation, the data points $(x_i,y_i)$ denote the true genes sequences and are the SVM positive examples. To be able to train the SVM, we need to generate all possible examples $((x_i,z_i))_{z_i \\in \\{\\mathrm{A,T,C,G}\\}}$.\n",
    "\n",
    "Your first task is to implement a function `builddata(X,Y)` that receives as input the dataset of size `(N x L)` of incomplete gene sequences `X` where `N` is the number of gene sequences and `L` is the sequence length, and where `Y` of size `N` contains the values of missing nucleotides.\n",
    "\n",
    "Your implementation should produce as output an extended dataset of size `(4N x L)`. Also, the function should return a vector of labels `T` of size `4N` that is `+1` for positive SVM examples and `-1` for negative SVM examples. For repeatability, ensure that all modifications of the same gene sequence occur in consecutive order in the outputs `XZ` and `T`."
   ]
  },
  {
   "cell_type": "code",
   "execution_count": 2,
   "metadata": {
    "collapsed": false
   },
   "outputs": [],
   "source": [
    "import numpy as np\n",
    "\n",
    "def builddata(X, Y):\n",
    "    X = np.asarray(X)\n",
    "    Y = np.asarray(Y)\n",
    "    N = X.shape[0]\n",
    "    L = X.shape[1]\n",
    "    assert Y.shape[0] == N\n",
    "\n",
    "    XZ = np.repeat(X, 4, axis=0)\n",
    "    T = np.repeat(Y, 4, axis=0).astype(object)\n",
    "    indexes = XZ == '?'\n",
    "    tiles = np.tile(['A', 'T', 'C', 'G'], N)\n",
    "    XZ[indexes] = tiles\n",
    "    mask = T==tiles\n",
    "    T[mask] = 1\n",
    "    T[~mask] = -1\n",
    "    T = T.astype(int)\n",
    "\n",
    "    assert(len(XZ) == len(T) == 4*len(X) == 4*len(Y))\n",
    "    return XZ,T"
   ]
  },
  {
   "cell_type": "markdown",
   "metadata": {},
   "source": [
    "Your implementation can be tested by running the following code. It applies the function to the training and test sets and prints the first 12 examples in the training set (i.e. all four possible completions of the first three gene sequences)."
   ]
  },
  {
   "cell_type": "code",
   "execution_count": 3,
   "metadata": {
    "collapsed": false
   },
   "outputs": [
    {
     "name": "stdout",
     "output_type": "stream",
     "text": [
      "CAACGATCCATACATCCACA -1\n",
      "CAACGATCCATTCATCCACA -1\n",
      "CAACGATCCATCCATCCACA +1\n",
      "CAACGATCCATGCATCCACA -1\n",
      "CAGGACGGTCAAGAAGATCC -1\n",
      "CAGGACGGTCATGAAGATCC -1\n",
      "CAGGACGGTCACGAAGATCC -1\n",
      "CAGGACGGTCAGGAAGATCC +1\n",
      "AAAAAGATGAAGTGGTCAAC +1\n",
      "AAAAAGATGATGTGGTCAAC -1\n",
      "AAAAAGATGACGTGGTCAAC -1\n",
      "AAAAAGATGAGGTGGTCAAC -1\n"
     ]
    }
   ],
   "source": [
    "XZtrain, Ttrain = builddata(Xtrain,Ytrain)\n",
    "XZtest, _       = builddata(Xtest, Ytest)\n",
    "\n",
    "for xztrain,ttrain in zip(XZtrain[:12],Ttrain[:12]):\n",
    "    print(\"\".join(xztrain)+' %+1d'%ttrain)"
   ]
  },
  {
   "cell_type": "markdown",
   "metadata": {},
   "source": [
    "## SVM Optimization and Sequences Completion (30 P)\n",
    "\n",
    "In this section, we would like to create a function that predicts the missing nucleotides in the gene sequences. The function should be structured as follows: First, we build the kernel training and test matrices using the function `utils.getdegreekernels` and using the specified `degree` parameter. Using `scikit-learn` SVM implementation (`sklearn.svm.SVC`) to train the SVM associated to the just computed kernel matrices and the target vector `Ttrain`. Use the default SVM hyperparameter `C=1` for training.\n",
    "\n",
    "After training the SVM, we would like to compute the predictions for the original structured output problem, that is, for each original gene sequence in the training and test set, the choice of missing nucleotide value for which the SVM prediction value is highest. The outputs `Ptrain` and `Ptest` denote such predictions and should be arrays of characters `A,T,C,G` of same size as the vectors of true nucleotides values `Ytrain` and `Ytest`.\n",
    "\n",
    "*(Hint: You should consider that in some cases there might be not exactly one missing nucleotide value that produces a positive SVM classification. In such cases, we would still like to find the unique best nucleotide value based on the value of the discriminant function for this particular data point. A special function of scikit-learn's `SVC` class exists for that purpose.)*"
   ]
  },
  {
   "cell_type": "code",
   "execution_count": 32,
   "metadata": {
    "collapsed": false
   },
   "outputs": [],
   "source": [
    "from sklearn.svm import SVC\n",
    "from utils import getdegreekernels\n",
    "\n",
    "def predict(XZtrain, XZtest, Ttrain, degree):\n",
    "    Ktrain, Ktest = getdegreekernels(XZtrain, XZtest, degree)\n",
    "    svc = SVC(kernel='precomputed', degree=degree)\n",
    "    svc.fit(Ktrain, Ttrain)\n",
    "    \n",
    "    \n",
    "    Ptrain = svc.decision_function(Ktrain)\n",
    "    Ptest = svc.decision_function(Ktest)\n",
    "\n",
    "    gene_dict = {0: 'A', 1: 'T', 2: 'C', 3: 'G'}\n",
    "    Ptrain = np.argmax(Ptrain.reshape(Ptrain.shape[0]//4, 4), axis=1)\n",
    "    Ptrain = np.apply_along_axis(func1d=lambda x: gene_dict[x[0]],\n",
    "                                 axis=1, arr=Ptrain[:, np.newaxis])\n",
    "    \n",
    "    Ptest = np.argmax(Ptest.reshape(Ptest.shape[0]//4, 4), axis=1)\n",
    "    Ptest = np.apply_along_axis(func1d=lambda x: gene_dict[x[0]],\n",
    "                                axis=1, arr=Ptest[:, np.newaxis])\n",
    "\n",
    "    return Ptrain,Ptest"
   ]
  },
  {
   "cell_type": "markdown",
   "metadata": {},
   "source": [
    "The code below tests the prediction function above with different choices of degree parameters for the kernel. Note that running the code can take a while (up to 3 minutes) due to the relatively large size of the kernel matrices. If the computation time becomes problematic, consider a subset of the dataset for development and only use the full version of the dataset once you are ready to produce the final version of your notebook."
   ]
  },
  {
   "cell_type": "code",
   "execution_count": 34,
   "metadata": {
    "collapsed": false
   },
   "outputs": [
    {
     "name": "stdout",
     "output_type": "stream",
     "text": [
      "degree: 1  train accuracy: 0.295  test accuracy: 0.281\n",
      "degree: 2  train accuracy: 0.517  test accuracy: 0.530\n",
      "degree: 3  train accuracy: 0.564  test accuracy: 0.516\n",
      "degree: 4  train accuracy: 0.804  test accuracy: 0.499\n",
      "degree: 5  train accuracy: 0.965  test accuracy: 0.492\n",
      "degree: 6  train accuracy: 0.998  test accuracy: 0.487\n",
      "1 loop, best of 1: 2min 3s per loop\n"
     ]
    }
   ],
   "source": [
    "%%timeit -r 1 -n 1\n",
    "for degree in [1,2,3,4,5,6]:\n",
    "    \n",
    "    Ptrain, Ptest = predict(XZtrain, XZtest, Ttrain, degree)\n",
    "\n",
    "    acctr = (Ytrain == Ptrain).mean()\n",
    "    acctt = (Ytest == Ptest).mean()\n",
    "    \n",
    "    print('degree: %d  train accuracy: %.3f  test accuracy: %.3f'%(degree, acctr, acctt))"
   ]
  }
 ],
 "metadata": {
  "kernelspec": {
   "display_name": "Python 2",
   "language": "python",
   "name": "python2"
  },
  "language_info": {
   "codemirror_mode": {
    "name": "ipython",
    "version": 2
   },
   "file_extension": ".py",
   "mimetype": "text/x-python",
   "name": "python",
   "nbconvert_exporter": "python",
   "pygments_lexer": "ipython2",
   "version": "2.7.11"
  }
 },
 "nbformat": 4,
 "nbformat_minor": 0
}
