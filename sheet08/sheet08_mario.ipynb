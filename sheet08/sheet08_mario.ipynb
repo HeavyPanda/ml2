{
 "cells": [
  {
   "cell_type": "markdown",
   "metadata": {},
   "source": [
    "# Exercise 1: Convolution Kernel\n",
    "Let $x$, $x_0$ be two univariate real-valued discrete time series. We define the convolution kernel\n",
    "\n",
    "$$\n",
    "k(x, x_0) = \\| x \\star x\\|^2\n",
    "$$\n",
    "\n",
    "that measures the similarity between them.\n",
    "\n",
    "(a) Write a test in Python that verifies empirically that the kernel is positive semi-definite and run it."
   ]
  },
  {
   "cell_type": "code",
   "execution_count": 73,
   "metadata": {
    "collapsed": false
   },
   "outputs": [
    {
     "name": "stdout",
     "output_type": "stream",
     "text": [
      "all kernel matrices are positive semidefinite\n"
     ]
    }
   ],
   "source": [
    "import numpy as np\n",
    "\n",
    "\n",
    "def kernel_matrx(A):\n",
    "    N = len(A)\n",
    "    K = np.zeros((N, N))\n",
    "    for i in range(N):\n",
    "        ai = A[i]\n",
    "        K[i, i] = conv_kernel(ai, ai)\n",
    "        for j in range(i + 1, N):\n",
    "            K[i, j] = K[j, i] = conv_kernel(ai, A[j])\n",
    "    return K\n",
    "\n",
    "\n",
    "def conv_kernel(x, y):\n",
    "    # x and y are supposed to be padded with infinite 0,\n",
    "    # so this is equivalent to numpy's full convolution\n",
    "    conv = np.convolve(x, y, mode='full')\n",
    "    return np.inner(conv, conv)\n",
    "\n",
    "\n",
    "def check_pos_sdef():\n",
    "    samples_nr = np.random.randint(1, int(1e3))\n",
    "    dimensions = np.random.randint(1, int(1e2))\n",
    "    A = np.random.rand(samples_nr, dimensions)\n",
    "    K = kernel_matrx(A)\n",
    "    eig_vals = np.linalg.eigvals(K)\n",
    "    try:\n",
    "        # -1e-6 is used instead of 0 to guard against floating point errors\n",
    "        virtual_zero = -1e-6\n",
    "        assert (eig_vals > virtual_zero).all()\n",
    "    except AssertionError:\n",
    "        print eig_vals[eig_vals <= virtual_zero]\n",
    "        raise\n",
    "\n",
    "iterations = xrange(int(1e3))\n",
    "try:\n",
    "    from joblib import Parallel, delayed\n",
    "    Parallel(n_jobs=-1)(delayed(check_pos_sdef)() for _ in iterations)\n",
    "except ImportError:\n",
    "    for _ in iterations:\n",
    "        check_pos_sdef()\n",
    "print \"all kernel matrices are positive semidefinite\""
   ]
  }
 ],
 "metadata": {
  "kernelspec": {
   "display_name": "Python 2",
   "language": "python",
   "name": "python2"
  },
  "language_info": {
   "codemirror_mode": {
    "name": "ipython",
    "version": 2
   },
   "file_extension": ".py",
   "mimetype": "text/x-python",
   "name": "python",
   "nbconvert_exporter": "python",
   "pygments_lexer": "ipython2",
   "version": "2.7.11"
  }
 },
 "nbformat": 4,
 "nbformat_minor": 0
}
